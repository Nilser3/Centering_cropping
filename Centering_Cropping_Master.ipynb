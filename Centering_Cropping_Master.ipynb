{
 "cells": [
  {
   "cell_type": "markdown",
   "metadata": {},
   "source": [
    "# Center AND Cropping of Images SC, GM et T2"
   ]
  },
  {
   "cell_type": "code",
   "execution_count": 1,
   "metadata": {},
   "outputs": [],
   "source": [
    "import nibabel as nib\n",
    "import matplotlib.pyplot as plt\n",
    "import numpy as np\n",
    "from scipy import ndimage\n",
    "from nibabel.processing import conform"
   ]
  },
  {
   "cell_type": "markdown",
   "metadata": {},
   "source": [
    "### Load Images SC, GM, T2    "
   ]
  },
  {
   "cell_type": "code",
   "execution_count": 11,
   "metadata": {},
   "outputs": [
    {
     "name": "stdout",
     "output_type": "stream",
     "text": [
      "Les images ont une resolution de : [0.17578126 0.17578124 2.2       ]\n",
      "\n",
      "Les images ont une taille de : (832, 1024, 7) <class 'tuple'>\n",
      "(832, 1024, 7) <class 'tuple'>\n",
      "(832, 1024, 7) <class 'tuple'>\n"
     ]
    }
   ],
   "source": [
    "sujet_index = 1\n",
    "path_database = \"DATA_DL_Segmentation/Data_HC/Sub-01\"\n",
    "image_data_SC = nib.load(path_database + \"/Sub-\" + str(sujet_index).zfill(2) + '_'+'SC.nii.gz')\n",
    "header_info_SC = image_data_SC.header\n",
    "image_SC = np.array(image_data_SC.get_fdata())\n",
    "print(\"Les images ont une resolution de :\",header_info_SC['pixdim'][1:4])\n",
    "print()\n",
    "print(\"Les images ont une taille de :\",image_SC.shape,type(image_SC.shape))\n",
    "\n",
    "image_data_GM = nib.load(path_database + \"/Sub-\" + str(sujet_index).zfill(2) + '_' + 'GM.nii.gz')\n",
    "header_info_GM = image_data_GM.header\n",
    "#header_info_GM['pixdim'][1:4]  = [0.175781,0.175781,2.2]\n",
    "image_GM = np.array(image_data_GM.get_fdata())\n",
    "print(image_GM.shape,type(image_GM.shape))\n",
    "\n",
    "image_data_T2  = nib.load(path_database + \"/Sub-\" + str(sujet_index).zfill(2) + '_'+'T2.nii.gz')\n",
    "header_info_T2 = image_data_T2.header\n",
    "#header_info_T2['pixdim'][1:4]  = [0.175781,0.175781,2.2]\n",
    "image_T2 = np.array(image_data_T2.get_fdata())\n",
    "print(image_T2.shape,type(image_T2.shape))\n",
    "\n",
    "#image_data_LE  = nib.load(path_database + \"/Sub-\" + str(sujet_index).zfill(2) + '_'+'LE_bin.nii.gz')\n",
    "#header_info_LE = image_data_LE.header\n",
    "#header_info_T2['pixdim'][1:4]  = [0.175781,0.175781,2.2]\n",
    "#image_LE = np.array(image_data_LE.get_fdata())\n",
    "#print(image_LE.shape,type(image_LE.shape))"
   ]
  },
  {
   "cell_type": "markdown",
   "metadata": {},
   "source": [
    "### Création des nouvelles images vides "
   ]
  },
  {
   "cell_type": "code",
   "execution_count": 12,
   "metadata": {},
   "outputs": [],
   "source": [
    "Size_X=128\n",
    "Size_Y=128\n",
    "Size_Z=(image_T2.shape)[2]"
   ]
  },
  {
   "cell_type": "code",
   "execution_count": 13,
   "metadata": {},
   "outputs": [
    {
     "data": {
      "text/plain": [
       "7"
      ]
     },
     "execution_count": 13,
     "metadata": {},
     "output_type": "execute_result"
    }
   ],
   "source": [
    "Size_Z"
   ]
  },
  {
   "cell_type": "code",
   "execution_count": 14,
   "metadata": {},
   "outputs": [],
   "source": [
    "img_new_SC=np.empty((Size_X,Size_Y,Size_Z))\n",
    "img_new_GM=np.empty((Size_X,Size_Y,Size_Z))\n",
    "img_new_T2=np.empty((Size_X,Size_Y,Size_Z))\n",
    "#img_new_LE=np.empty((Size_X,Size_Y,Size_Z))"
   ]
  },
  {
   "cell_type": "code",
   "execution_count": 15,
   "metadata": {},
   "outputs": [
    {
     "data": {
      "text/plain": [
       "(832, 1024, 7)"
      ]
     },
     "execution_count": 15,
     "metadata": {},
     "output_type": "execute_result"
    }
   ],
   "source": [
    "image_SC.shape"
   ]
  },
  {
   "cell_type": "markdown",
   "metadata": {},
   "source": [
    "### Fonction for Center and Cropping "
   ]
  },
  {
   "cell_type": "code",
   "execution_count": 16,
   "metadata": {},
   "outputs": [],
   "source": [
    "def CenterANDCrop (image_SC,image_GM,image_T2):   \n",
    "    for i in range(Size_Z):\n",
    "        x,y=ndimage.measurements.center_of_mass(image_SC[:,:,i]) #Definiton de center of mass pour SC, et on va utilisser le meme centre pour GM et T2\n",
    "        x,y=int(round(x)),int(round(y)) \n",
    "        xmin = x - int(Size_X/2)\n",
    "        xmax = x + int(Size_X/2)\n",
    "        ymin = y - int(Size_Y/2)\n",
    "        ymax = y + int(Size_Y/2)\n",
    "        \n",
    "        img_new_SC[:,:,i]=image_SC[xmin:xmax,ymin:ymax,i]\n",
    "        img_new_GM[:,:,i]=image_GM[xmin:xmax,ymin:ymax,i]\n",
    "        img_new_T2[:,:,i]=image_T2[xmin:xmax,ymin:ymax,i]\n",
    "        #img_new_LE[:,:,i]=image_LE[xmin:xmax,ymin:ymax,i]\n",
    "        \n",
    "    SC = nib.Nifti1Image(img_new_SC, image_data_SC.affine, header_info_SC)\n",
    "    GM = nib.Nifti1Image(img_new_GM, image_data_GM.affine, header_info_GM)\n",
    "    T2 = nib.Nifti1Image(img_new_T2, image_data_T2.affine, header_info_T2)\n",
    "    #LE = nib.Nifti1Image(img_new_LE, image_data_LE.affine, header_info_LE)\n",
    "    \n",
    "    path_database_out = \"multiclass-segmentation/Data_SC_GM_WM\"\n",
    "    nib.save(SC,path_database_out+\"/Sub-\" + str(sujet_index).zfill(2) + \"_SC_cropp.nii.gz\")\n",
    "    nib.save(GM,path_database_out+\"/Sub-\" + str(sujet_index).zfill(2) + \"_GM_cropp.nii.gz\")\n",
    "    nib.save(T2,path_database_out+\"/Sub-\" + str(sujet_index).zfill(2) + \"_T2_cropp.nii.gz\")\n",
    "    #nib.save(LE,path_database_out +\"/Sub-\" + str(sujet_index).zfill(2) +  \"_LE_crop.nii.gz\")\n",
    "    print(\"Les nouvelles images ont été bien enregistrées\")\n",
    "    print()\n",
    "    print(\"Taille des images :\",SC.shape )"
   ]
  },
  {
   "cell_type": "code",
   "execution_count": 17,
   "metadata": {},
   "outputs": [
    {
     "name": "stdout",
     "output_type": "stream",
     "text": [
      "Les nouvelles images ont été bien enregistrées\n",
      "\n",
      "Taille des images : (128, 128, 7)\n"
     ]
    }
   ],
   "source": [
    "CenterANDCrop(image_SC,image_GM,image_T2)"
   ]
  }
 ],
 "metadata": {
  "kernelspec": {
   "display_name": "Python 3",
   "language": "python",
   "name": "python3"
  },
  "language_info": {
   "codemirror_mode": {
    "name": "ipython",
    "version": 3
   },
   "file_extension": ".py",
   "mimetype": "text/x-python",
   "name": "python",
   "nbconvert_exporter": "python",
   "pygments_lexer": "ipython3",
   "version": "3.7.6"
  }
 },
 "nbformat": 4,
 "nbformat_minor": 2
}
